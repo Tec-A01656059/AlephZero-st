{
  "cells": [
    {
      "cell_type": "markdown",
      "metadata": {},
      "source": [
        "### Clase 1: Introducción al cómputo en la nube\n",
        "\n",
        "En esta clase veremos brevemente sobre lo que es y no es el cómputo en la nube. También, aprenderás a hacer tu cuenta en Azure y desplegarás tu primer modelo de Machine Learning en la nube.\n",
        "\n",
        "Este archivo corresponde a esta última parte."
      ]
    },
    {
      "cell_type": "markdown",
      "metadata": {},
      "source": [
        "## 1.1 Experimentos de Machine Learning.\n",
        "\n",
        "A continuación, presentamos un experimento pequeño sobre Machine Learning."
      ]
    },
    {
      "cell_type": "markdown",
      "metadata": {},
      "source": [
        "Entonces los guardamos con el formato Pickle (ADVERTENCIA, NO ES SEGURO)"
      ]
    },
    {
      "cell_type": "markdown",
      "metadata": {
        "id": "auNCALkxgO_3"
      },
      "source": [
        "# DESPLEGANDO EN LA NUBE.\n",
        "\n",
        "Lo primero que debemos hacer es generar un espacio de trabajo (workspace), utilizando para ello el id de nuestra suscripción."
      ]
    },
    {
      "cell_type": "code",
      "execution_count": 1,
      "metadata": {
        "colab": {
          "base_uri": "https://localhost:8080/"
        },
        "id": "ai6_sj9-IKI7",
        "outputId": "db9e6489-b9f5-421d-ca5b-536428789d8a"
      },
      "outputs": [
        {
          "ename": "ModuleNotFoundError",
          "evalue": "No module named 'azureml'",
          "output_type": "error",
          "traceback": [
            "\u001b[31m---------------------------------------------------------------------------\u001b[39m",
            "\u001b[31mModuleNotFoundError\u001b[39m                       Traceback (most recent call last)",
            "\u001b[36mCell\u001b[39m\u001b[36m \u001b[39m\u001b[32mIn[1]\u001b[39m\u001b[32m, line 7\u001b[39m\n\u001b[32m      4\u001b[39m \u001b[38;5;28mid\u001b[39m = \u001b[38;5;28mopen\u001b[39m(\u001b[33m'\u001b[39m\u001b[33mmy_id.json\u001b[39m\u001b[33m'\u001b[39m, \u001b[33m'\u001b[39m\u001b[33mr\u001b[39m\u001b[33m'\u001b[39m)\n\u001b[32m      5\u001b[39m mi = json.load(\u001b[38;5;28mid\u001b[39m)\n\u001b[32m----> \u001b[39m\u001b[32m7\u001b[39m \u001b[38;5;28;01mfrom\u001b[39;00m\u001b[38;5;250m \u001b[39m\u001b[34;01mazureml\u001b[39;00m\u001b[34;01m.\u001b[39;00m\u001b[34;01mcore\u001b[39;00m\u001b[38;5;250m \u001b[39m\u001b[38;5;28;01mimport\u001b[39;00m Workspace\n\u001b[32m      9\u001b[39m ws = Workspace.create(name=\u001b[33m\"\u001b[39m\u001b[33mtestmodel\u001b[39m\u001b[33m\"\u001b[39m,\n\u001b[32m     10\u001b[39m                       subscription_id = mi[\u001b[33m\"\u001b[39m\u001b[33mmy_id\u001b[39m\u001b[33m\"\u001b[39m],\n\u001b[32m     11\u001b[39m                       resource_group = \u001b[33m\"\u001b[39m\u001b[33mdeploymodel\u001b[39m\u001b[33m\"\u001b[39m,\n\u001b[32m     12\u001b[39m                       location = \u001b[33m\"\u001b[39m\u001b[33mcentralindia\u001b[39m\u001b[33m\"\u001b[39m) \u001b[38;5;66;03m#centralindia\u001b[39;00m\n",
            "\u001b[31mModuleNotFoundError\u001b[39m: No module named 'azureml'"
          ]
        }
      ],
      "source": [
        "#GETTING MY ID:\n",
        "import json\n",
        "\n",
        "id = open('my_id.json', 'r')\n",
        "mi = json.load(id)\n",
        "\n",
        "from azureml.core import Workspace\n",
        "\n",
        "ws = Workspace.create(name=\"testmodel\",\n",
        "                      subscription_id = mi[\"my_id\"],\n",
        "                      resource_group = \"deploymodel\",\n",
        "                      location = \"centralindia\") #centralindia"
      ]
    },
    {
      "cell_type": "markdown",
      "metadata": {},
      "source": [
        "Posteriormente, registramos el modelo que vamos a utilizar. En este caso, el modelo en formato pickle. También hay que asignarle un nombre."
      ]
    },
    {
      "cell_type": "code",
      "execution_count": null,
      "metadata": {
        "colab": {
          "base_uri": "https://localhost:8080/"
        },
        "id": "uknSb6doJDT6",
        "outputId": "01da2e74-180e-4c37-d801-deac146dd3e7"
      },
      "outputs": [
        {
          "name": "stdout",
          "output_type": "stream",
          "text": [
            "Registering model modelreg\n"
          ]
        }
      ],
      "source": [
        "from azureml.core.model import Model\n",
        "\n",
        "registered_model = Model.register(model_path=\"model.pkl\",\n",
        "                                  model_name=\"classifier\",\n",
        "                                  workspace=ws)"
      ]
    },
    {
      "cell_type": "code",
      "execution_count": 7,
      "metadata": {
        "id": "3hLv_p5_Jait"
      },
      "outputs": [],
      "source": [
        "from azureml.core.environment import Environment\n",
        "virtual_env = Environment(\"env\")\n",
        "\n",
        "from azureml.core.conda_dependencies import CondaDependencies\n",
        "virtual_env.python.conda_dependencies = CondaDependencies.create(conda_packages=[\n",
        "    'pandas',\n",
        "    'scikit-learn'\n",
        "    ])"
      ]
    },
    {
      "cell_type": "code",
      "execution_count": 8,
      "metadata": {
        "id": "eNBvdgwAkonj"
      },
      "outputs": [
        {
          "name": "stderr",
          "output_type": "stream",
          "text": [
            "C:\\Users\\Felip\\AppData\\Local\\Temp\\ipykernel_27584\\979962562.py:10: FutureWarning: azureml.core.model:\n",
            "To leverage new model deployment capabilities, AzureML recommends using CLI/SDK v2 to deploy models as online endpoint, \n",
            "please refer to respective documentations \n",
            "https://docs.microsoft.com/azure/machine-learning/how-to-deploy-managed-online-endpoints /\n",
            "https://docs.microsoft.com/azure/machine-learning/how-to-attach-kubernetes-anywhere \n",
            "For more information on migration, see https://aka.ms/acimoemigration \n",
            "To disable CLI/SDK v1 deprecation warning set AZUREML_LOG_DEPRECATION_WARNING_ENABLED to 'False'\n",
            "  service = Model.deploy(workspace=ws,\n"
          ]
        }
      ],
      "source": [
        "from azureml.core.model import InferenceConfig\n",
        "from azureml.core.webservice import AciWebservice\n",
        "\n",
        "inference_config = InferenceConfig(\n",
        "                                environment=virtual_env,\n",
        "                                entry_script=\"API/score.py\",\n",
        "                                )\n",
        "aci_config = AciWebservice.deploy_configuration(cpu_cores=0.5, memory_gb=1)\n",
        "\n",
        "service = Model.deploy(workspace=ws,\n",
        "                       name='testmodel',\n",
        "                       models=[registered_model],\n",
        "                       inference_config=inference_config,\n",
        "                       deployment_config=aci_config,\n",
        "                       overwrite=True,\n",
        "                       )"
      ]
    },
    {
      "cell_type": "code",
      "execution_count": 9,
      "metadata": {},
      "outputs": [
        {
          "name": "stdout",
          "output_type": "stream",
          "text": [
            "ACI service creation operation finished, operation \"Succeeded\"\n"
          ]
        }
      ],
      "source": [
        "service.wait_for_deployment()"
      ]
    },
    {
      "cell_type": "code",
      "execution_count": 11,
      "metadata": {
        "id": "Vj_79q94LbcU"
      },
      "outputs": [],
      "source": [
        "scoring_uri = service.scoring_uri\n",
        "# Save the uri to a file\n",
        "with open('scoring_uri.txt', 'w') as f:\n",
        "    f.write(scoring_uri)\n"
      ]
    },
    {
      "cell_type": "markdown",
      "metadata": {},
      "source": [
        "## USING THE MODEL"
      ]
    },
    {
      "cell_type": "code",
      "execution_count": 16,
      "metadata": {
        "colab": {
          "base_uri": "https://localhost:8080/",
          "height": 356
        },
        "id": "zKBckafANHB2",
        "outputId": "93998e0e-8258-4739-b87e-9002add33ab3"
      },
      "outputs": [
        {
          "name": "stdout",
          "output_type": "stream",
          "text": [
            "{'result': [-0.03427901583899695, 0.8660552324617822, 0.05060939437120193, 0.8801751053895741, 0.9509326342492445]}\n"
          ]
        },
        {
          "data": {
            "text/html": [
              "<div>\n",
              "<style scoped>\n",
              "    .dataframe tbody tr th:only-of-type {\n",
              "        vertical-align: middle;\n",
              "    }\n",
              "\n",
              "    .dataframe tbody tr th {\n",
              "        vertical-align: top;\n",
              "    }\n",
              "\n",
              "    .dataframe thead th {\n",
              "        text-align: right;\n",
              "    }\n",
              "</style>\n",
              "<table border=\"1\" class=\"dataframe\">\n",
              "  <thead>\n",
              "    <tr style=\"text-align: right;\">\n",
              "      <th></th>\n",
              "      <th>CustomerID</th>\n",
              "      <th>NameStyle</th>\n",
              "      <th>Title</th>\n",
              "      <th>FirstName</th>\n",
              "      <th>MiddleName</th>\n",
              "      <th>LastName</th>\n",
              "      <th>Suffix</th>\n",
              "      <th>CompanyName</th>\n",
              "      <th>SalesPerson</th>\n",
              "      <th>EmailAddress</th>\n",
              "      <th>Phone</th>\n",
              "      <th>PasswordHash</th>\n",
              "      <th>PasswordSalt</th>\n",
              "      <th>rowguid</th>\n",
              "      <th>ModifiedDate</th>\n",
              "    </tr>\n",
              "  </thead>\n",
              "  <tbody>\n",
              "    <tr>\n",
              "      <th>0</th>\n",
              "      <td>1</td>\n",
              "      <td>False</td>\n",
              "      <td>Mr.</td>\n",
              "      <td>Orlando</td>\n",
              "      <td>N.</td>\n",
              "      <td>Gee</td>\n",
              "      <td>None</td>\n",
              "      <td>A Bike Store</td>\n",
              "      <td>adventure-works\\pamela0</td>\n",
              "      <td>orlando0@adventure-works.com</td>\n",
              "      <td>245-555-0173</td>\n",
              "      <td>L/Rlwxzp4w7RWmEgXX+/A7cXaePEPcp+KwQhl2fJL7w=</td>\n",
              "      <td>1KjXYs4=</td>\n",
              "      <td>3F5AE95E-B87D-4AED-95B4-C3797AFCB74F</td>\n",
              "      <td>2005-08-01 00:00:00.000</td>\n",
              "    </tr>\n",
              "    <tr>\n",
              "      <th>1</th>\n",
              "      <td>2</td>\n",
              "      <td>False</td>\n",
              "      <td>Mr.</td>\n",
              "      <td>Keith</td>\n",
              "      <td>None</td>\n",
              "      <td>Harris</td>\n",
              "      <td>None</td>\n",
              "      <td>Progressive Sports</td>\n",
              "      <td>adventure-works\\david8</td>\n",
              "      <td>keith0@adventure-works.com</td>\n",
              "      <td>170-555-0127</td>\n",
              "      <td>YPdtRdvqeAhj6wyxEsFdshBDNXxkCXn+CRgbvJItknw=</td>\n",
              "      <td>fs1ZGhY=</td>\n",
              "      <td>E552F657-A9AF-4A7D-A645-C429D6E02491</td>\n",
              "      <td>2006-08-01 00:00:00.000</td>\n",
              "    </tr>\n",
              "    <tr>\n",
              "      <th>2</th>\n",
              "      <td>3</td>\n",
              "      <td>False</td>\n",
              "      <td>Ms.</td>\n",
              "      <td>Donna</td>\n",
              "      <td>F.</td>\n",
              "      <td>Carreras</td>\n",
              "      <td>None</td>\n",
              "      <td>Advanced Bike Components</td>\n",
              "      <td>adventure-works\\jillian0</td>\n",
              "      <td>donna0@adventure-works.com</td>\n",
              "      <td>279-555-0130</td>\n",
              "      <td>LNoK27abGQo48gGue3EBV/UrlYSToV0/s87dCRV7uJk=</td>\n",
              "      <td>YTNH5Rw=</td>\n",
              "      <td>130774B1-DB21-4EF3-98C8-C104BCD6ED6D</td>\n",
              "      <td>2005-09-01 00:00:00.000</td>\n",
              "    </tr>\n",
              "    <tr>\n",
              "      <th>3</th>\n",
              "      <td>4</td>\n",
              "      <td>False</td>\n",
              "      <td>Ms.</td>\n",
              "      <td>Janet</td>\n",
              "      <td>M.</td>\n",
              "      <td>Gates</td>\n",
              "      <td>None</td>\n",
              "      <td>Modular Cycle Systems</td>\n",
              "      <td>adventure-works\\jillian0</td>\n",
              "      <td>janet1@adventure-works.com</td>\n",
              "      <td>710-555-0173</td>\n",
              "      <td>ElzTpSNbUW1Ut+L5cWlfR7MF6nBZia8WpmGaQPjLOJA=</td>\n",
              "      <td>nm7D5e4=</td>\n",
              "      <td>FF862851-1DAA-4044-BE7C-3E85583C054D</td>\n",
              "      <td>2006-07-01 00:00:00.000</td>\n",
              "    </tr>\n",
              "    <tr>\n",
              "      <th>4</th>\n",
              "      <td>5</td>\n",
              "      <td>False</td>\n",
              "      <td>Mr.</td>\n",
              "      <td>Lucy</td>\n",
              "      <td>None</td>\n",
              "      <td>Harrington</td>\n",
              "      <td>None</td>\n",
              "      <td>Metropolitan Sports Supply</td>\n",
              "      <td>adventure-works\\shu0</td>\n",
              "      <td>lucy0@adventure-works.com</td>\n",
              "      <td>828-555-0186</td>\n",
              "      <td>KJqV15wsX3PG8TS5GSddp6LFFVdd3CoRftZM/tP0+R4=</td>\n",
              "      <td>cNFKU4w=</td>\n",
              "      <td>83905BDC-6F5E-4F71-B162-C98DA069F38A</td>\n",
              "      <td>2006-09-01 00:00:00.000</td>\n",
              "    </tr>\n",
              "  </tbody>\n",
              "</table>\n",
              "</div>"
            ],
            "text/plain": [
              "   CustomerID  NameStyle Title FirstName MiddleName    LastName Suffix  \\\n",
              "0           1      False   Mr.   Orlando         N.         Gee   None   \n",
              "1           2      False   Mr.     Keith       None      Harris   None   \n",
              "2           3      False   Ms.     Donna         F.    Carreras   None   \n",
              "3           4      False   Ms.     Janet         M.       Gates   None   \n",
              "4           5      False   Mr.      Lucy       None  Harrington   None   \n",
              "\n",
              "                  CompanyName               SalesPerson  \\\n",
              "0                A Bike Store   adventure-works\\pamela0   \n",
              "1          Progressive Sports    adventure-works\\david8   \n",
              "2    Advanced Bike Components  adventure-works\\jillian0   \n",
              "3       Modular Cycle Systems  adventure-works\\jillian0   \n",
              "4  Metropolitan Sports Supply      adventure-works\\shu0   \n",
              "\n",
              "                   EmailAddress         Phone  \\\n",
              "0  orlando0@adventure-works.com  245-555-0173   \n",
              "1    keith0@adventure-works.com  170-555-0127   \n",
              "2    donna0@adventure-works.com  279-555-0130   \n",
              "3    janet1@adventure-works.com  710-555-0173   \n",
              "4     lucy0@adventure-works.com  828-555-0186   \n",
              "\n",
              "                                   PasswordHash PasswordSalt  \\\n",
              "0  L/Rlwxzp4w7RWmEgXX+/A7cXaePEPcp+KwQhl2fJL7w=     1KjXYs4=   \n",
              "1  YPdtRdvqeAhj6wyxEsFdshBDNXxkCXn+CRgbvJItknw=     fs1ZGhY=   \n",
              "2  LNoK27abGQo48gGue3EBV/UrlYSToV0/s87dCRV7uJk=     YTNH5Rw=   \n",
              "3  ElzTpSNbUW1Ut+L5cWlfR7MF6nBZia8WpmGaQPjLOJA=     nm7D5e4=   \n",
              "4  KJqV15wsX3PG8TS5GSddp6LFFVdd3CoRftZM/tP0+R4=     cNFKU4w=   \n",
              "\n",
              "                                rowguid             ModifiedDate  \n",
              "0  3F5AE95E-B87D-4AED-95B4-C3797AFCB74F  2005-08-01 00:00:00.000  \n",
              "1  E552F657-A9AF-4A7D-A645-C429D6E02491  2006-08-01 00:00:00.000  \n",
              "2  130774B1-DB21-4EF3-98C8-C104BCD6ED6D  2005-09-01 00:00:00.000  \n",
              "3  FF862851-1DAA-4044-BE7C-3E85583C054D  2006-07-01 00:00:00.000  \n",
              "4  83905BDC-6F5E-4F71-B162-C98DA069F38A  2006-09-01 00:00:00.000  "
            ]
          },
          "metadata": {},
          "output_type": "display_data"
        }
      ],
      "source": [
        "import pandas as pd\n",
        "import json\n",
        "input_data = pd.read_csv(\"load_data/temp_data/output.csv\")\n",
        "    # Serialize the first 5 rows of the DataFrame to JSON\n",
        "input_data = input_data.head(5).to_json(orient=\"records\")\n",
        "input_data = {\n",
        "    \"data\": json.loads(input_data)  # Asegúrate de que sea una lista de registros\n",
        "}\n",
        "\n",
        "model_input = json.dumps(input_data)\n",
        "\n",
        "headers = {\"Content-Type\": \"application/json\"}\n",
        "# ===================AQUI VA EL URI==================\n",
        "scoring_uri = open('scoring_uri.txt', 'r').readline().strip()\n",
        "# ====================AQUI VA EL URI==================\n",
        "import requests\n",
        "response = requests.post(scoring_uri, \n",
        "                         data=model_input, \n",
        "                         headers=headers)\n",
        "\n",
        "if response.status_code == 200:\n",
        "  result = json.loads(response.json())\n",
        "  print(result)\n",
        "  input_data[\"median_house_value\"] = result[\"result\"]\n",
        "  display(pd.DataFrame(input_data[\"data\"]))\n",
        "else:\n",
        "  print(f\"Error: {response.text}\")"
      ]
    },
    {
      "cell_type": "code",
      "execution_count": null,
      "metadata": {},
      "outputs": [],
      "source": []
    }
  ],
  "metadata": {
    "colab": {
      "provenance": []
    },
    "kernelspec": {
      "display_name": "FLearn",
      "language": "python",
      "name": "python3"
    },
    "language_info": {
      "codemirror_mode": {
        "name": "ipython",
        "version": 3
      },
      "file_extension": ".py",
      "mimetype": "text/x-python",
      "name": "python",
      "nbconvert_exporter": "python",
      "pygments_lexer": "ipython3",
      "version": "3.11.12"
    }
  },
  "nbformat": 4,
  "nbformat_minor": 0
}
